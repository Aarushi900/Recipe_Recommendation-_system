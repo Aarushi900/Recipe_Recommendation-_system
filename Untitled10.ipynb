{
  "nbformat": 4,
  "nbformat_minor": 0,
  "metadata": {
    "colab": {
      "provenance": [],
      "authorship_tag": "ABX9TyNZ4NDdSko14dfEbfoVqJR1",
      "include_colab_link": true
    },
    "kernelspec": {
      "name": "python3",
      "display_name": "Python 3"
    },
    "language_info": {
      "name": "python"
    }
  },
  "cells": [
    {
      "cell_type": "markdown",
      "metadata": {
        "id": "view-in-github",
        "colab_type": "text"
      },
      "source": [
        "<a href=\"https://colab.research.google.com/github/Aarushi900/Recipe_Recommendation-_system/blob/main/Untitled10.ipynb\" target=\"_parent\"><img src=\"https://colab.research.google.com/assets/colab-badge.svg\" alt=\"Open In Colab\"/></a>"
      ]
    },
    {
      "cell_type": "code",
      "execution_count": null,
      "metadata": {
        "id": "zGhKapSJFff7"
      },
      "outputs": [],
      "source": [
        "# Import libraries\n",
        "import numpy as np\n",
        "import pandas as pd\n",
        "import matplotlib.pyplot as plt\n",
        "import seaborn as sns\n",
        "import warnings\n",
        "warnings.filterwarnings(\"ignore\")"
      ]
    },
    {
      "cell_type": "code",
      "source": [
        "# Read the clean datasets\n",
        "recipes_df = pd.read_pickle('clean_recipes.pkl')\n",
        "users_df = pd.read_pickle('clean_interactions.pkl')\n",
        "food_df = pd.read_pickle('food.pkl')"
      ],
      "metadata": {
        "id": "JCjA_MPHFo7f"
      },
      "execution_count": null,
      "outputs": []
    },
    {
      "cell_type": "code",
      "source": [
        "# Shape of the data\n",
        "print('The shape of the recipe dataset is:', recipes_df.shape)\n",
        "print('The shape of the user interactions dataset is:', users_df.shape)\n",
        "print('The shape of the merged dataset is:', food_df.shape)"
      ],
      "metadata": {
        "id": "KXR65PhqFrvM"
      },
      "execution_count": null,
      "outputs": []
    },
    {
      "cell_type": "code",
      "source": [
        "# View recipes dataset\n",
        "recipes_df.head()"
      ],
      "metadata": {
        "id": "zpiOZBVjFvun"
      },
      "execution_count": null,
      "outputs": []
    },
    {
      "cell_type": "code",
      "source": [
        "# Numerical summary\n",
        "recipes_df.describe()"
      ],
      "metadata": {
        "id": "5ul7egSXF0J9"
      },
      "execution_count": null,
      "outputs": []
    },
    {
      "cell_type": "code",
      "source": [
        "# Select nutritional columns for analysis\n",
        "nutritional_columns = ['calories', 'total_fat', 'sugar', 'sodium', 'protein', 'saturated_fat', 'carbohydrates']\n",
        "\n",
        "# Plot boxplots of nutritional features\n",
        "sns.boxplot(data=recipes_df[nutritional_columns])\n",
        "plt.xlabel('Nutritional Feature')\n",
        "plt.ylabel('Value')\n",
        "plt.title('Nutritional Analysis')\n",
        "plt.xticks(rotation=45)\n",
        "plt.show()"
      ],
      "metadata": {
        "id": "YLKBZb9CF2NM"
      },
      "execution_count": null,
      "outputs": []
    },
    {
      "cell_type": "code",
      "source": [
        "# Merge the datasets on the common column 'recipe_id'\n",
        "merged_df = pd.merge(recipes_df, users_df, left_on='id', right_on='recipe_id')"
      ],
      "metadata": {
        "id": "q53W-66tF5ea"
      },
      "execution_count": null,
      "outputs": []
    },
    {
      "cell_type": "code",
      "source": [
        "# View shape and info of merged df\n",
        "merged_df.info()"
      ],
      "metadata": {
        "id": "HvtzmzjKF6EM"
      },
      "execution_count": null,
      "outputs": []
    },
    {
      "cell_type": "code",
      "source": [
        "plt.figure(figsize=(15,6))\n",
        "sns.heatmap(merged_df.corr(),annot=True)"
      ],
      "metadata": {
        "id": "r6b3_rJYF8Ai"
      },
      "execution_count": null,
      "outputs": []
    },
    {
      "cell_type": "markdown",
      "source": [
        "In the correlation analysis conducted, we found a correlation coefficient of 0.49 between the variables 'vegan' and 'vegetarian'. This moderate positive correlation is in line with the relationship between the two dietary labels. It is important to note that all vegan dishes are inherently vegetarian, as they exclude any animal products, while vegetarian dishes may include dairy and eggs. Consequently, the positive correlation observed suggests that recipes labeled as vegan are also likely to be labeled as vegetarian. This correlation analysis provides quantitative evidence supporting the logical relationship between these dietary categories.\n",
        "\n",
        "Next, the correlation coefficient between 'n_steps' and 'n_ingredients' is 0.39, indicating a moderate positive correlation. This suggests that there is a tendency for recipes with more steps to also have more ingredients. This observation aligns with the intuition that as the number of ingredients increases, additional preparation and cooking steps are typically required to incorporate and combine those ingredients effectively. Therefore, it is expected that recipes with a higher number of ingredients will generally have a higher number of steps. The positive correlation between the number of steps and the number of ingredients reinforces this relationship, indicating that more complex recipes with a greater variety of ingredients tend to involve a greater number of steps in their preparation.\n",
        "\n",
        "A correlation coefficient of 0.4 between 'submitted_year' and 'review_year' suggests a moderate positive correlation. This indicates that there is a tendency for recipes submitted in earlier years to receive reviews in earlier years as well. However, it's important to note that correlation does not imply causation. This correlation could be influenced by various factors, such as the popularity of certain recipes during specific time periods or the availability of ingredients. Further analysis and consideration of other variables would be needed to understand the underlying reasons behind this correlation."
      ],
      "metadata": {
        "id": "LXWAReBEGA8T"
      }
    },
    {
      "cell_type": "code",
      "source": [
        "correlation_matrix = merged_df[['calories', 'total_fat', 'sugar', 'sodium', 'protein', 'saturated_fat', 'carbohydrates']].corr()\n",
        "sns.heatmap(correlation_matrix, annot=True)\n",
        "plt.title('Correlation Matrix')\n",
        "plt.show()"
      ],
      "metadata": {
        "id": "1AOGoU_-F-Hg"
      },
      "execution_count": null,
      "outputs": []
    },
    {
      "cell_type": "markdown",
      "source": [
        "The strong positive correlations observed between 'calories' and 'total_fat' (correlation coefficient of 0.91) and between 'calories' and 'saturated_fat' (correlation coefficient of 0.86) suggest an association between calorie content and fat-related measures in recipes. As the number of calories increases, there is a tendency for the total fat and saturated fat content to also increase. This is expected, as fat is a concentrated source of energy, containing more calories per gram compared to other macronutrients like protein and carbohydrates. Therefore, recipes with higher calorie counts are more likely to contain higher amounts of total fat and saturated fat, contributing to the observed correlations. It is important to consider these relationships when assessing the nutritional composition and energy content of recipes.\n",
        "\n",
        "Similarly, the correlation coefficient of 0.73 between 'calories' and 'carbohydrates' suggests a moderate positive correlation between these two variables in recipes. This indicates that as the calorie content of a recipe increases, there is a tendency for the carbohydrate content to also increase. Carbohydrates are one of the macronutrients that contribute to the caloric content of food. They are a primary source of energy for the body and are commonly found in foods such as grains, fruits, and vegetables. Therefore, it is expected that recipes with higher calorie counts would typically contain higher amounts of carbohydrates. However, it is important to note that correlation does not imply causation, and other factors may also influence the relationship between calories and carbohydrates in recipes."
      ],
      "metadata": {
        "id": "tS74N9luGGVY"
      }
    },
    {
      "cell_type": "code",
      "source": [
        "# Count for each rating score\n",
        "users_df['rating'].value_counts()"
      ],
      "metadata": {
        "id": "sDIyTIp3GD1-"
      },
      "execution_count": null,
      "outputs": []
    },
    {
      "cell_type": "code",
      "source": [
        "# Bar graph for user rating\n",
        "users_df['rating'].value_counts().sort_index().plot(kind=\"bar\")\n",
        "plt.xlabel('Rating')\n",
        "plt.ylabel('Count')\n",
        "plt.title('User Rating Distribution')\n",
        "plt.xticks(rotation=0)\n",
        "plt.show()"
      ],
      "metadata": {
        "id": "SuJgwp_mGJUB"
      },
      "execution_count": null,
      "outputs": []
    },
    {
      "cell_type": "code",
      "source": [
        "\n",
        "yearly_interaction_counts = users_df['review_year'].value_counts().sort_index()\n",
        "yearly_interaction_counts.plot(kind='line', marker='o')\n",
        "plt.xlabel('Year')\n",
        "plt.ylabel('Number of Interactions')\n",
        "plt.title('User Interactions Over Time')\n",
        "plt.xlim(2000, 2018)\n",
        "plt.show()\n"
      ],
      "metadata": {
        "id": "0XmxfcDrGMWt"
      },
      "execution_count": null,
      "outputs": []
    },
    {
      "cell_type": "code",
      "source": [
        "# Perform time-based analysis\n",
        "time_analysis = recipes_df.groupby('submitted_year').size()\n",
        "time_analysis.plot(kind='line', marker='o')\n",
        "plt.xlim(2000, 2018)\n",
        "plt.xlabel('Year')\n",
        "plt.ylabel('Number of Recipes')\n",
        "plt.title('Number of Recipes Over Time')\n",
        "plt.show()"
      ],
      "metadata": {
        "id": "AKr75ArsGPeM"
      },
      "execution_count": null,
      "outputs": []
    },
    {
      "cell_type": "code",
      "source": [
        "# Calculate the count of recipes for each dietary restriction\n",
        "dietary_restrictions = ['dairy-free', 'gluten-free', 'low-carb', 'vegan', 'vegetarian']\n",
        "restriction_counts = recipes_df[dietary_restrictions].sum()\n",
        "\n",
        "# Add 'none' category when all diet types are 0\n",
        "restriction_counts['other'] = len(recipes_df) - restriction_counts.sum()\n",
        "\n",
        "# Plot bar chart of dietary restriction counts with log scale\n",
        "sns.barplot(x=restriction_counts.index, y=restriction_counts.values)\n",
        "plt.xlabel('Dietary Restriction')\n",
        "plt.ylabel('Count')\n",
        "plt.yscale('log')\n",
        "plt.title('Count of Dietary Restrictions in Recipes (Log Scale)')\n",
        "plt.show()"
      ],
      "metadata": {
        "id": "shg7Sv3TGRfc"
      },
      "execution_count": null,
      "outputs": []
    },
    {
      "cell_type": "code",
      "source": [
        "filtered_recipes = food_df[food_df['average_rating'] == 5]\n",
        "top_recipes = filtered_recipes.nlargest(10, 'votes')\n",
        "\n",
        "plt.figure(figsize=(10, 6))\n",
        "plt.barh(top_recipes['name'], top_recipes['votes'], color='lightgreen')\n",
        "plt.xlabel('Votes')\n",
        "plt.ylabel('Recipe Name')\n",
        "plt.title('Top 10 Recipes with Average Rating of 5 Based on Votes')\n",
        "plt.gca().invert_yaxis()\n",
        "plt.show()\n"
      ],
      "metadata": {
        "id": "p1BG5JH-GTQG"
      },
      "execution_count": null,
      "outputs": []
    },
    {
      "cell_type": "code",
      "source": [
        "from wordcloud import WordCloud\n",
        "\n",
        "# Concatenate all ingredients into a single string\n",
        "ingredients_text = ' '.join(recipes_df['ingredients'].explode().str.replace(\"'\", \"\"))\n",
        "\n",
        "# Create a WordCloud object with an off-white background color\n",
        "wordcloud = WordCloud(width=800, height=400, background_color='ivory').generate(ingredients_text)\n",
        "\n",
        "# Display the word cloud\n",
        "plt.figure(figsize=(10, 6))\n",
        "plt.imshow(wordcloud, interpolation='bilinear')\n",
        "plt.axis('off')\n",
        "plt.title('Ingredient Word Cloud')\n",
        "plt.show()"
      ],
      "metadata": {
        "id": "_Oj_PnbzGVFC"
      },
      "execution_count": null,
      "outputs": []
    },
    {
      "cell_type": "markdown",
      "source": [
        "# **CONCLUSION**"
      ],
      "metadata": {
        "id": "vZyA-wwcGX3U"
      }
    },
    {
      "cell_type": "markdown",
      "source": [
        "During the EDA step of the recipe recommendation system, the following findings were uncovered:\n",
        "- Some nutritional value columns may have outliers, but we keep them due to the unknown serving size.\n",
        "- A moderate positive correlation (0.49) between 'vegan' and 'vegetarian', as expected.\n",
        "- Moderate positive correlation (0.39) between 'n_steps' and 'n_ingredients', indicating more complex recipes have more steps.\n",
        "- Moderate positive correlation (0.4) between 'submitted_year' and 'review_year', further investigation needed.\n",
        "- Strong positive correlations between 'calories' & 'total_fat' (0.91) and 'calories' & 'saturated_fat' (0.86).\n",
        "- Moderate positive correlation (0.73) between 'calories' and 'carbohydrates'.\n",
        "- User ratings skewed positively, potential rating bias.\n",
        "- Peak user interactions in 2008, gradual decline afterward.\n",
        "- Steady increase in recipe submissions until peak in 2017, followed by a gradual decline.\n",
        "- Varying popularity of dietary preferences: 'none', 'low-carb', 'vegetarian', 'vegan', 'gluten-free', and 'dairy-free'.\n",
        "- Word cloud highlights common ingredients like \"garlic clove\" and \"olive oil\".\n",
        "\n",
        "Overall, the EDA provides valuable insights into the dataset, offering information about nutritional aspects, dietary preferences, user interactions, and ingredient usage. These findings will guide further analysis and model development in the recipe recommendation system. With this, we will now proceed to the modeling phase."
      ],
      "metadata": {
        "id": "6g40OE7-GXKf"
      }
    }
  ]
}